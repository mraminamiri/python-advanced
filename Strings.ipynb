{
 "cells": [
  {
   "metadata": {},
   "cell_type": "markdown",
   "source": "Variables\n",
   "id": "82dff90da2d712e1"
  },
  {
   "metadata": {},
   "cell_type": "markdown",
   "source": "Strings",
   "id": "5cffee82e109df3"
  },
  {
   "metadata": {
    "ExecuteTime": {
     "end_time": "2025-03-22T17:35:10.400788Z",
     "start_time": "2025-03-22T17:35:10.393420Z"
    }
   },
   "cell_type": "code",
   "source": [
    "message = 'Hello World!'\n",
    "print(message)"
   ],
   "id": "a7c92686a8831a8b",
   "outputs": [
    {
     "name": "stdout",
     "output_type": "stream",
     "text": [
      "Hello World!\n"
     ]
    }
   ],
   "execution_count": 1
  },
  {
   "metadata": {
    "ExecuteTime": {
     "end_time": "2025-03-22T17:35:10.404836Z",
     "start_time": "2025-03-22T17:35:10.402256Z"
    }
   },
   "cell_type": "code",
   "source": [
    "message = 'Hello World!\\'d'\n",
    "print(message)"
   ],
   "id": "4106a8ce0f44bb7c",
   "outputs": [
    {
     "name": "stdout",
     "output_type": "stream",
     "text": [
      "Hello World!'d\n"
     ]
    }
   ],
   "execution_count": 2
  },
  {
   "metadata": {
    "ExecuteTime": {
     "end_time": "2025-03-22T17:38:47.981453Z",
     "start_time": "2025-03-22T17:38:47.976040Z"
    }
   },
   "cell_type": "code",
   "source": [
    "name = 'mohammad amin amiri'\n",
    "print(name)\n",
    "print(name.title())\n",
    "print(name.upper())\n",
    "print(name.lower())\n",
    "print(name.capitalize())\n",
    "print(name.count('s'))\n",
    "print(name.count('m'))\n",
    "print(name.find('s'))\n",
    "print(name.find('m'))\n"
   ],
   "id": "1994a7d6b116b437",
   "outputs": [
    {
     "name": "stdout",
     "output_type": "stream",
     "text": [
      "mohammad amin amiri\n",
      "Mohammad Amin Amiri\n",
      "MOHAMMAD AMIN AMIRI\n",
      "mohammad amin amiri\n",
      "Mohammad amin amiri\n",
      "0\n",
      "5\n",
      "-1\n",
      "0\n"
     ]
    }
   ],
   "execution_count": 16
  },
  {
   "metadata": {
    "ExecuteTime": {
     "end_time": "2025-03-22T17:45:56.226800Z",
     "start_time": "2025-03-22T17:45:52.045750Z"
    }
   },
   "cell_type": "code",
   "source": [
    "name = input('Enter your name: ')\n",
    "print(f'Welcome {name.title()}')"
   ],
   "id": "57d23b62a41eb8f7",
   "outputs": [
    {
     "name": "stdout",
     "output_type": "stream",
     "text": [
      "Welcome Amin Amiri\n"
     ]
    }
   ],
   "execution_count": 18
  },
  {
   "metadata": {},
   "cell_type": "code",
   "outputs": [],
   "execution_count": null,
   "source": "",
   "id": "f3ced0332944a4ce"
  }
 ],
 "metadata": {
  "kernelspec": {
   "display_name": "Python 3",
   "language": "python",
   "name": "python3"
  },
  "language_info": {
   "codemirror_mode": {
    "name": "ipython",
    "version": 2
   },
   "file_extension": ".py",
   "mimetype": "text/x-python",
   "name": "python",
   "nbconvert_exporter": "python",
   "pygments_lexer": "ipython2",
   "version": "2.7.6"
  }
 },
 "nbformat": 4,
 "nbformat_minor": 5
}
