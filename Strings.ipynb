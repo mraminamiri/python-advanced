{
 "cells": [
  {
   "metadata": {},
   "cell_type": "markdown",
   "source": [
    "Variables\n",
    "(Session One)\n"
   ],
   "id": "82dff90da2d712e1"
  },
  {
   "metadata": {},
   "cell_type": "markdown",
   "source": "Strings",
   "id": "5cffee82e109df3"
  },
  {
   "metadata": {
    "ExecuteTime": {
     "end_time": "2025-03-22T18:56:38.182994Z",
     "start_time": "2025-03-22T18:56:38.179896Z"
    }
   },
   "cell_type": "code",
   "source": [
    "message = 'Hello World!'\n",
    "message = ('Hello'\n",
    "           ' World!')\n",
    "message = '''Hello \n",
    "World!'''\n",
    "\n",
    "print(message)"
   ],
   "id": "a7c92686a8831a8b",
   "outputs": [
    {
     "name": "stdout",
     "output_type": "stream",
     "text": [
      "Hello \n",
      "World!\n"
     ]
    }
   ],
   "execution_count": 6
  },
  {
   "metadata": {
    "ExecuteTime": {
     "end_time": "2025-03-22T17:35:10.404836Z",
     "start_time": "2025-03-22T17:35:10.402256Z"
    }
   },
   "cell_type": "code",
   "source": [
    "message = 'Hello World!\\'d'\n",
    "print(message)"
   ],
   "id": "4106a8ce0f44bb7c",
   "outputs": [
    {
     "name": "stdout",
     "output_type": "stream",
     "text": [
      "Hello World!'d\n"
     ]
    }
   ],
   "execution_count": 2
  },
  {
   "metadata": {
    "ExecuteTime": {
     "end_time": "2025-03-22T17:38:47.981453Z",
     "start_time": "2025-03-22T17:38:47.976040Z"
    }
   },
   "cell_type": "code",
   "source": [
    "name = 'mohammad amin amiri'\n",
    "print(name)\n",
    "print(name.title())\n",
    "print(name.upper())\n",
    "print(name.lower())\n",
    "print(name.capitalize())\n",
    "print(name.count('s'))\n",
    "print(name.count('m'))\n",
    "print(name.find('s'))\n",
    "print(name.find('m'))\n"
   ],
   "id": "1994a7d6b116b437",
   "outputs": [
    {
     "name": "stdout",
     "output_type": "stream",
     "text": [
      "mohammad amin amiri\n",
      "Mohammad Amin Amiri\n",
      "MOHAMMAD AMIN AMIRI\n",
      "mohammad amin amiri\n",
      "Mohammad amin amiri\n",
      "0\n",
      "5\n",
      "-1\n",
      "0\n"
     ]
    }
   ],
   "execution_count": 16
  },
  {
   "metadata": {
    "ExecuteTime": {
     "end_time": "2025-03-22T17:45:56.226800Z",
     "start_time": "2025-03-22T17:45:52.045750Z"
    }
   },
   "cell_type": "code",
   "source": [
    "name = input('Enter your name: ')\n",
    "print(f'Welcome {name.title()}')"
   ],
   "id": "57d23b62a41eb8f7",
   "outputs": [
    {
     "name": "stdout",
     "output_type": "stream",
     "text": [
      "Welcome Amin Amiri\n"
     ]
    }
   ],
   "execution_count": 18
  },
  {
   "metadata": {},
   "cell_type": "markdown",
   "source": "Numric",
   "id": "b479a468668e12ea"
  },
  {
   "metadata": {
    "ExecuteTime": {
     "end_time": "2025-03-22T18:59:57.876251Z",
     "start_time": "2025-03-22T18:59:57.873078Z"
    }
   },
   "cell_type": "code",
   "source": [
    "z = 2+1j \n",
    "print(type(z))"
   ],
   "id": "da6a8fa1db420b9e",
   "outputs": [
    {
     "name": "stdout",
     "output_type": "stream",
     "text": [
      "<class 'complex'>\n"
     ]
    }
   ],
   "execution_count": 9
  },
  {
   "metadata": {
    "ExecuteTime": {
     "end_time": "2025-03-22T22:08:47.500114Z",
     "start_time": "2025-03-22T22:08:47.496203Z"
    }
   },
   "cell_type": "code",
   "source": [
    "age = '28'\n",
    "print(type(age))\n",
    "age = int(age)\n",
    "print(type(age))\n",
    "age = str(28)\n",
    "print(type(age))\n",
    "age = '28.2'\n",
    "X = float(age)\n",
    "print(X)\n",
    "print(int(X))\n",
    "print(float(X))"
   ],
   "id": "aae44052b01cb3fd",
   "outputs": [
    {
     "name": "stdout",
     "output_type": "stream",
     "text": [
      "<class 'str'>\n",
      "<class 'int'>\n",
      "<class 'str'>\n",
      "28.2\n",
      "28\n",
      "28.2\n"
     ]
    }
   ],
   "execution_count": 11
  },
  {
   "metadata": {},
   "cell_type": "markdown",
   "source": "Boolean",
   "id": "e789b988d7b1c334"
  },
  {
   "metadata": {
    "ExecuteTime": {
     "end_time": "2025-03-22T22:14:06.161071Z",
     "start_time": "2025-03-22T22:14:06.158528Z"
    }
   },
   "cell_type": "code",
   "source": [
    "print(10>X)\n",
    "print(28<X)\n",
    "X = 0 \n",
    "print(type(X))\n",
    "X = bool(X)\n",
    "print(type(X))\n"
   ],
   "id": "76e1eba5855eb69d",
   "outputs": [
    {
     "name": "stdout",
     "output_type": "stream",
     "text": [
      "True\n",
      "False\n",
      "<class 'int'>\n",
      "<class 'bool'>\n"
     ]
    }
   ],
   "execution_count": 17
  },
  {
   "metadata": {},
   "cell_type": "markdown",
   "source": "Oprations",
   "id": "cd0919d03e4501f7"
  },
  {
   "metadata": {
    "ExecuteTime": {
     "end_time": "2025-03-22T22:23:47.567813Z",
     "start_time": "2025-03-22T22:23:47.561918Z"
    }
   },
   "cell_type": "code",
   "source": [
    "print(2+6)\n",
    "X = 2\n",
    "y = 6\n",
    "print(X+y)\n",
    "print(X*8)\n",
    "print(X/8)\n",
    "print(X//8)\n",
    "print(X%8)\n",
    "print(X**8)\n",
    "print(X**6)\n",
    "print(X**-6)\n",
    "print(X**-2)\n",
    "print(4**-2)\n",
    "\n"
   ],
   "id": "fca5c8d52950532",
   "outputs": [
    {
     "name": "stdout",
     "output_type": "stream",
     "text": [
      "8\n",
      "8\n",
      "16\n",
      "0.25\n",
      "0\n",
      "2\n",
      "256\n",
      "64\n",
      "0.015625\n",
      "0.25\n",
      "0.0625\n"
     ]
    }
   ],
   "execution_count": 31
  },
  {
   "metadata": {
    "ExecuteTime": {
     "end_time": "2025-03-22T22:28:24.721474Z",
     "start_time": "2025-03-22T22:28:24.718739Z"
    }
   },
   "cell_type": "code",
   "source": [
    "X= X + 2\n",
    "print(X)"
   ],
   "id": "b18138f485c3a8a9",
   "outputs": [
    {
     "name": "stdout",
     "output_type": "stream",
     "text": [
      "4\n"
     ]
    }
   ],
   "execution_count": 32
  },
  {
   "metadata": {
    "ExecuteTime": {
     "end_time": "2025-03-22T22:30:11.802262Z",
     "start_time": "2025-03-22T22:30:11.797447Z"
    }
   },
   "cell_type": "code",
   "source": [
    "X = 2\n",
    "X+=2\n",
    "print(X)\n",
    "\n"
   ],
   "id": "fd2ccfab77c192dd",
   "outputs": [
    {
     "name": "stdout",
     "output_type": "stream",
     "text": [
      "4\n"
     ]
    }
   ],
   "execution_count": 35
  },
  {
   "metadata": {
    "ExecuteTime": {
     "end_time": "2025-03-22T22:30:40.660677Z",
     "start_time": "2025-03-22T22:30:40.658366Z"
    }
   },
   "cell_type": "code",
   "source": [
    "X -=2\n",
    "print(X)"
   ],
   "id": "30cde745c5d37887",
   "outputs": [
    {
     "name": "stdout",
     "output_type": "stream",
     "text": [
      "2\n"
     ]
    }
   ],
   "execution_count": 36
  },
  {
   "metadata": {
    "ExecuteTime": {
     "end_time": "2025-03-22T22:33:50.725417Z",
     "start_time": "2025-03-22T22:33:50.722261Z"
    }
   },
   "cell_type": "code",
   "source": [
    "X = 12\n",
    "z= 32\n",
    "print(X==z)\n",
    "print(X!=z)\n",
    "print(X>z)\n",
    "print(X>=z)\n",
    "print(X<=z)\n"
   ],
   "id": "aa7900b07465f1a2",
   "outputs": [
    {
     "name": "stdout",
     "output_type": "stream",
     "text": [
      "False\n",
      "True\n",
      "False\n",
      "False\n",
      "True\n"
     ]
    }
   ],
   "execution_count": 43
  },
  {
   "metadata": {},
   "cell_type": "code",
   "outputs": [],
   "execution_count": null,
   "source": "",
   "id": "98bebc1d1225c438"
  }
 ],
 "metadata": {
  "kernelspec": {
   "display_name": "Python 3",
   "language": "python",
   "name": "python3"
  },
  "language_info": {
   "codemirror_mode": {
    "name": "ipython",
    "version": 2
   },
   "file_extension": ".py",
   "mimetype": "text/x-python",
   "name": "python",
   "nbconvert_exporter": "python",
   "pygments_lexer": "ipython2",
   "version": "2.7.6"
  }
 },
 "nbformat": 4,
 "nbformat_minor": 5
}
